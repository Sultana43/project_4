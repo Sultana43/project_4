{
 "cells": [
  {
   "cell_type": "code",
   "execution_count": 1,
   "id": "21697401",
   "metadata": {},
   "outputs": [],
   "source": [
    "import pandas as pd"
   ]
  },
  {
   "cell_type": "code",
   "execution_count": 5,
   "id": "80a70f10",
   "metadata": {},
   "outputs": [
    {
     "data": {
      "text/plain": [
       "Index(['Marital status', 'Application mode', 'Application order', 'Course',\n",
       "       'Daytime/evening attendance', 'Previous qualification', 'Nacionality',\n",
       "       'Mother's qualification', 'Father's qualification',\n",
       "       'Mother's occupation', 'Father's occupation', 'Displaced',\n",
       "       'Educational special needs', 'Debtor', 'Tuition fees up to date',\n",
       "       'Gender', 'Scholarship holder', 'Age at enrollment', 'International',\n",
       "       'Curricular units 1st sem (credited)',\n",
       "       'Curricular units 1st sem (enrolled)',\n",
       "       'Curricular units 1st sem (evaluations)',\n",
       "       'Curricular units 1st sem (approved)',\n",
       "       'Curricular units 1st sem (grade)',\n",
       "       'Curricular units 1st sem (without evaluations)',\n",
       "       'Curricular units 2nd sem (credited)',\n",
       "       'Curricular units 2nd sem (enrolled)',\n",
       "       'Curricular units 2nd sem (evaluations)',\n",
       "       'Curricular units 2nd sem (approved)',\n",
       "       'Curricular units 2nd sem (grade)',\n",
       "       'Curricular units 2nd sem (without evaluations)', 'Unemployment rate',\n",
       "       'Inflation rate', 'GDP', 'Target'],\n",
       "      dtype='object')"
      ]
     },
     "execution_count": 5,
     "metadata": {},
     "output_type": "execute_result"
    }
   ],
   "source": [
    "file_path = 'DATA_SET/Raw_dataset.csv'\n",
    "df = pd.read_csv(file_path)\n",
    "df.head()\n",
    "df.columns"
   ]
  },
  {
   "cell_type": "code",
   "execution_count": 6,
   "id": "df2b43e1",
   "metadata": {},
   "outputs": [
    {
     "data": {
      "text/plain": [
       "Index(['Marital status', 'Daytime/evening attendance',\n",
       "       'Previous qualification', 'Nationality', 'Mother qualification',\n",
       "       'Father qualification', 'Tuition fees up to date', 'Gender',\n",
       "       'Scholarship holder', 'International', 'Age at enrollment',\n",
       "       'Curricular units 1st sem (grade)', 'Curricular units 2nd sem (grade)',\n",
       "       'Target'],\n",
       "      dtype='object')"
      ]
     },
     "execution_count": 6,
     "metadata": {},
     "output_type": "execute_result"
    }
   ],
   "source": [
    "df[\"Mother qualification\"] = df[\"Mother\\'s qualification\"]\n",
    "df[\"Father qualification\"] = df[\"Father\\'s qualification\"]\n",
    "df[\"Nationality\"] = df[\"Nacionality\"]\n",
    "df = df[[\"Marital status\",\"Daytime/evening attendance\",\"Previous qualification\",\"Nationality\",\"Mother qualification\",\"Father qualification\",\"Tuition fees up to date\",\"Gender\",\"Scholarship holder\",\"International\",\"Age at enrollment\",\"Curricular units 1st sem (grade)\",\"Curricular units 2nd sem (grade)\",\"Target\"]]\n",
    "\n",
    "df.columns"
   ]
  },
  {
   "cell_type": "code",
   "execution_count": 7,
   "id": "ded8be8e",
   "metadata": {},
   "outputs": [],
   "source": [
    "df.to_csv('DATA_SET/Cleaned_data.csv',header=True,index = False)"
   ]
  },
  {
   "cell_type": "code",
   "execution_count": null,
   "id": "6008a3c4",
   "metadata": {},
   "outputs": [],
   "source": []
  }
 ],
 "metadata": {
  "kernelspec": {
   "display_name": "Python 3 (ipykernel)",
   "language": "python",
   "name": "python3"
  },
  "language_info": {
   "codemirror_mode": {
    "name": "ipython",
    "version": 3
   },
   "file_extension": ".py",
   "mimetype": "text/x-python",
   "name": "python",
   "nbconvert_exporter": "python",
   "pygments_lexer": "ipython3",
   "version": "3.10.9"
  }
 },
 "nbformat": 4,
 "nbformat_minor": 5
}
